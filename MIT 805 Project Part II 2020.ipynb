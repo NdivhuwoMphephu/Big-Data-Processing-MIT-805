{
 "cells": [
  {
   "cell_type": "markdown",
   "metadata": {},
   "source": [
    " ## ------------------------------------------------------------\n",
    " ## Name       : Ndivhuwo Mphephu\n",
    " ## Student No : 27211976\n",
    " ## Module     : MIT 805 (Big Dta Processing)\n",
    " ## Due Date    : 15 November 2020\n",
    " ## ------------------------------------------------------------"
   ]
  },
  {
   "cell_type": "markdown",
   "metadata": {},
   "source": [
    "## Project Description:\n",
    "\n",
    "<p style='text-align: justify;'>  This is a project for MIT 805 (Big Data Processing) course at the University of Pretoria. The requirement for this course is to solve a real life big data problem using Big Data frameworks and techniques learnt during the course. Specific task include coding the MapReduce algorithm to extract and summarize your data and also visualising the dataset. The project requires selecting a dataset with size between 1GB and 10GB. Therefore, a dataset of historical loans from Lending Club was selected. This is an open source dataset from lending club with loans recorded from 2007 till the fourth quarter of 2019. The data is available to download on the following website https://www.kaggle.com/denychaen/lending-club-loans-rejects-data. </p>\n",
    "\n",
    "<p style='text-align: justify;'> The Lending Club is one of the biggest peer-to-peer (P2P) lending platform by market share in the United States of America. The P2P industry has grown significantly since its inception in 2007 prompting more people to have interest in get to this market place. With billions of dollars issued in annual loans, there are significant opportunities to capitalize on this alternative investment option however it remains investor’s responsibility to understand the risks involved in the lending business within this market. This project is aimed at using big data techniques to extract information from massive records of loans issued over the years of platform’s operation. The dataset contains 2,650,550 loans that have been issued where each loan has 150 attributes. The dataset is 1.9GB in size and this makes it hard to process in a machine with low computing power. The main objective of this project is to understanding different characteristics of borrowers in this market through performing visualisation   on various characteristics of borrowers and also apply machine learning models to predict the types of borrowers who are likely to default on their loans.</p>\n",
    "\n",
    "##### Technology requirements: findSpark 1.2.0, Spark 2.4.7, Spark MLlib, Python, Seaborn and pyplot."
   ]
  },
  {
   "cell_type": "markdown",
   "metadata": {},
   "source": [
    "## Set up the Spark environment and Import the required packages and modules"
   ]
  },
  {
   "cell_type": "code",
   "execution_count": 1,
   "metadata": {},
   "outputs": [],
   "source": [
    "import findspark\n",
    "findspark.init()\n",
    "\n",
    "from pyspark import SparkConf\n",
    "from pyspark.sql import SparkSession\n",
    "from pyspark.sql import SQLContext\n",
    "from pyspark.sql import functions as F\n",
    "from pyspark.sql.functions import isnan, when, count, col, year, quarter, lit, to_date, to_timestamp, concat, avg\n",
    "from pyspark.sql.types import DateType, TimestampType\n",
    "from pyspark import SparkContext\n",
    "from pyspark import SparkConf\n",
    "\n",
    "sc = SparkContext()  \n",
    "SparkContext.setSystemProperty('spark.executor.memory', '8g')\n",
    "SparkContext.setSystemProperty('spark.driver.memory', '8g')\n",
    "\n",
    "spark_conf = SparkConf().setAll(pairs = [('spark.executor.memory', '8g'), ('spark.executor.cores', '4'), ('spark.cores.max', '4'), ('spark.driver.memory','8g')])\n",
    "spark = SparkSession.builder.master(\"local[*]\").config(conf = spark_conf).appName(\"MIT 805 Project\").getOrCreate()\n",
    "sqlContext = SQLContext(spark)\n",
    "spark.sparkContext.setLogLevel('ERROR')\n",
    "#sc = spark.sparkContext\n",
    "\n",
    "# Packages for Machine Learning\n",
    "import pandas as pd\n",
    "from pyspark.sql import Row\n",
    "from pyspark.ml import Pipeline\n",
    "from pyspark.ml.classification import RandomForestClassifier, DecisionTreeClassifier\n",
    "from pyspark.ml.feature import IndexToString, StringIndexer, VectorIndexer, VectorSlicer\n",
    "from pyspark.ml import Pipeline\n",
    "from pyspark.ml.classification import LogisticRegression\n",
    "from pyspark.ml.evaluation import BinaryClassificationEvaluator\n",
    "from pyspark.ml.tuning import CrossValidator, TrainValidationSplit, ParamGridBuilder\n",
    "\n",
    "import warnings\n",
    "warnings.filterwarnings('ignore')\n",
    "\n",
    "%matplotlib notebook   \n",
    "\n",
    "import datetime\n",
    "import numpy as np\n",
    "import pandas as pd\n",
    "from pandas import DataFrame as df\n",
    "import matplotlib.pyplot as plt\n",
    "import seaborn as sns\n",
    "sns.set(color_codes=True)\n",
    "from scipy import stats\n",
    "import chart_studio.plotly as py #import plotly.plotly as py\n",
    "import plotly.graph_objs as go\n",
    "from plotly.offline import init_notebook_mode,iplot\n",
    "#init_notebook_mode(connected=True)"
   ]
  },
  {
   "cell_type": "markdown",
   "metadata": {},
   "source": [
    "## Load the data into spark environment"
   ]
  },
  {
   "cell_type": "code",
   "execution_count": 2,
   "metadata": {},
   "outputs": [
    {
     "name": "stdout",
     "output_type": "stream",
     "text": [
      "root\n",
      " |-- _c0: integer (nullable = true)\n",
      " |-- id: integer (nullable = true)\n",
      " |-- member_id: string (nullable = true)\n",
      " |-- loan_amnt: double (nullable = true)\n",
      " |-- funded_amnt: double (nullable = true)\n",
      " |-- funded_amnt_inv: double (nullable = true)\n",
      " |-- term: string (nullable = true)\n",
      " |-- int_rate: double (nullable = true)\n",
      " |-- installment: double (nullable = true)\n",
      " |-- grade: string (nullable = true)\n",
      " |-- sub_grade: string (nullable = true)\n",
      " |-- emp_title: string (nullable = true)\n",
      " |-- emp_length: string (nullable = true)\n",
      " |-- home_ownership: string (nullable = true)\n",
      " |-- annual_inc: string (nullable = true)\n",
      " |-- verification_status: string (nullable = true)\n",
      " |-- issue_d: string (nullable = true)\n",
      " |-- loan_status: string (nullable = true)\n",
      " |-- pymnt_plan: string (nullable = true)\n",
      " |-- url: string (nullable = true)\n",
      " |-- desc: string (nullable = true)\n",
      " |-- purpose: string (nullable = true)\n",
      " |-- title: string (nullable = true)\n",
      " |-- zip_code: string (nullable = true)\n",
      " |-- addr_state: string (nullable = true)\n",
      " |-- dti: string (nullable = true)\n",
      " |-- delinq_2yrs: double (nullable = true)\n",
      " |-- earliest_cr_line: string (nullable = true)\n",
      " |-- fico_range_low: string (nullable = true)\n",
      " |-- fico_range_high: double (nullable = true)\n",
      " |-- inq_last_6mths: double (nullable = true)\n",
      " |-- mths_since_last_delinq: double (nullable = true)\n",
      " |-- mths_since_last_record: double (nullable = true)\n",
      " |-- open_acc: double (nullable = true)\n",
      " |-- pub_rec: double (nullable = true)\n",
      " |-- revol_bal: double (nullable = true)\n",
      " |-- revol_util: double (nullable = true)\n",
      " |-- total_acc: double (nullable = true)\n",
      " |-- initial_list_status: string (nullable = true)\n",
      " |-- out_prncp: string (nullable = true)\n",
      " |-- out_prncp_inv: double (nullable = true)\n",
      " |-- total_pymnt: double (nullable = true)\n",
      " |-- total_pymnt_inv: double (nullable = true)\n",
      " |-- total_rec_prncp: double (nullable = true)\n",
      " |-- total_rec_int: double (nullable = true)\n",
      " |-- total_rec_late_fee: double (nullable = true)\n",
      " |-- recoveries: double (nullable = true)\n",
      " |-- collection_recovery_fee: double (nullable = true)\n",
      " |-- last_pymnt_d: string (nullable = true)\n",
      " |-- last_pymnt_amnt: string (nullable = true)\n",
      " |-- next_pymnt_d: string (nullable = true)\n",
      " |-- last_credit_pull_d: string (nullable = true)\n",
      " |-- last_fico_range_high: string (nullable = true)\n",
      " |-- last_fico_range_low: double (nullable = true)\n",
      " |-- collections_12_mths_ex_med: double (nullable = true)\n",
      " |-- mths_since_last_major_derog: double (nullable = true)\n",
      " |-- policy_code: double (nullable = true)\n",
      " |-- application_type: string (nullable = true)\n",
      " |-- annual_inc_joint: string (nullable = true)\n",
      " |-- dti_joint: double (nullable = true)\n",
      " |-- verification_status_joint: string (nullable = true)\n",
      " |-- acc_now_delinq: double (nullable = true)\n",
      " |-- tot_coll_amt: double (nullable = true)\n",
      " |-- tot_cur_bal: double (nullable = true)\n",
      " |-- open_acc_6m: double (nullable = true)\n",
      " |-- open_act_il: double (nullable = true)\n",
      " |-- open_il_12m: double (nullable = true)\n",
      " |-- open_il_24m: double (nullable = true)\n",
      " |-- mths_since_rcnt_il: double (nullable = true)\n",
      " |-- total_bal_il: double (nullable = true)\n",
      " |-- il_util: double (nullable = true)\n",
      " |-- open_rv_12m: double (nullable = true)\n",
      " |-- open_rv_24m: double (nullable = true)\n",
      " |-- max_bal_bc: double (nullable = true)\n",
      " |-- all_util: double (nullable = true)\n",
      " |-- total_rev_hi_lim: double (nullable = true)\n",
      " |-- inq_fi: double (nullable = true)\n",
      " |-- total_cu_tl: double (nullable = true)\n",
      " |-- inq_last_12m: double (nullable = true)\n",
      " |-- acc_open_past_24mths: double (nullable = true)\n",
      " |-- avg_cur_bal: double (nullable = true)\n",
      " |-- bc_open_to_buy: double (nullable = true)\n",
      " |-- bc_util: double (nullable = true)\n",
      " |-- chargeoff_within_12_mths: double (nullable = true)\n",
      " |-- delinq_amnt: double (nullable = true)\n",
      " |-- mo_sin_old_il_acct: double (nullable = true)\n",
      " |-- mo_sin_old_rev_tl_op: double (nullable = true)\n",
      " |-- mo_sin_rcnt_rev_tl_op: double (nullable = true)\n",
      " |-- mo_sin_rcnt_tl: double (nullable = true)\n",
      " |-- mort_acc: double (nullable = true)\n",
      " |-- mths_since_recent_bc: double (nullable = true)\n",
      " |-- mths_since_recent_bc_dlq: double (nullable = true)\n",
      " |-- mths_since_recent_inq: double (nullable = true)\n",
      " |-- mths_since_recent_revol_delinq: double (nullable = true)\n",
      " |-- num_accts_ever_120_pd: double (nullable = true)\n",
      " |-- num_actv_bc_tl: double (nullable = true)\n",
      " |-- num_actv_rev_tl: double (nullable = true)\n",
      " |-- num_bc_sats: double (nullable = true)\n",
      " |-- num_bc_tl: double (nullable = true)\n",
      " |-- num_il_tl: double (nullable = true)\n",
      " |-- num_op_rev_tl: double (nullable = true)\n",
      " |-- num_rev_accts: double (nullable = true)\n",
      " |-- num_rev_tl_bal_gt_0: double (nullable = true)\n",
      " |-- num_sats: double (nullable = true)\n",
      " |-- num_tl_120dpd_2m: double (nullable = true)\n",
      " |-- num_tl_30dpd: double (nullable = true)\n",
      " |-- num_tl_90g_dpd_24m: double (nullable = true)\n",
      " |-- num_tl_op_past_12m: double (nullable = true)\n",
      " |-- pct_tl_nvr_dlq: double (nullable = true)\n",
      " |-- percent_bc_gt_75: double (nullable = true)\n",
      " |-- pub_rec_bankruptcies: double (nullable = true)\n",
      " |-- tax_liens: double (nullable = true)\n",
      " |-- tot_hi_cred_lim: double (nullable = true)\n",
      " |-- total_bal_ex_mort: double (nullable = true)\n",
      " |-- total_bc_limit: double (nullable = true)\n",
      " |-- total_il_high_credit_limit: double (nullable = true)\n",
      " |-- revol_bal_joint: double (nullable = true)\n",
      " |-- sec_app_fico_range_low: string (nullable = true)\n",
      " |-- sec_app_fico_range_high: string (nullable = true)\n",
      " |-- sec_app_earliest_cr_line: string (nullable = true)\n",
      " |-- sec_app_inq_last_6mths: string (nullable = true)\n",
      " |-- sec_app_mort_acc: string (nullable = true)\n",
      " |-- sec_app_open_acc: string (nullable = true)\n",
      " |-- sec_app_revol_util: string (nullable = true)\n",
      " |-- sec_app_open_act_il: string (nullable = true)\n",
      " |-- sec_app_num_rev_accts: string (nullable = true)\n",
      " |-- sec_app_chargeoff_within_12_mths: string (nullable = true)\n",
      " |-- sec_app_collections_12_mths_ex_med: string (nullable = true)\n",
      " |-- sec_app_mths_since_last_major_derog: string (nullable = true)\n",
      " |-- hardship_flag: string (nullable = true)\n",
      " |-- hardship_type: string (nullable = true)\n",
      " |-- hardship_reason: string (nullable = true)\n",
      " |-- hardship_status: string (nullable = true)\n",
      " |-- deferral_term: double (nullable = true)\n",
      " |-- hardship_amount: double (nullable = true)\n",
      " |-- hardship_start_date: string (nullable = true)\n",
      " |-- hardship_end_date: string (nullable = true)\n",
      " |-- payment_plan_start_date: string (nullable = true)\n",
      " |-- hardship_length: double (nullable = true)\n",
      " |-- hardship_dpd: double (nullable = true)\n",
      " |-- hardship_loan_status: string (nullable = true)\n",
      " |-- orig_projected_additional_accrued_interest: double (nullable = true)\n",
      " |-- hardship_payoff_balance_amount: double (nullable = true)\n",
      " |-- hardship_last_payment_amount: double (nullable = true)\n",
      " |-- debt_settlement_flag: string (nullable = true)\n",
      " |-- debt_settlement_flag_date: string (nullable = true)\n",
      " |-- settlement_status: string (nullable = true)\n",
      " |-- settlement_date: string (nullable = true)\n",
      " |-- settlement_amount: double (nullable = true)\n",
      " |-- settlement_percentage: double (nullable = true)\n",
      " |-- settlement_term: double (nullable = true)\n",
      "\n"
     ]
    }
   ],
   "source": [
    "#LC_Data = sc.textFile(\"file:///C:/Users/Ndivhuwo Mphephu/Desktop/Lending Club Data/LendingClub Data (2007-2019Q3)/LendingClubP1.csv\")\n",
    "LC_Loan_part = spark.read.csv(\"file:///C:/Users/Ndivhuwo Mphephu/Desktop/Lending Club Data/LendingClub Data (2007-2019Q3)/LendingClubP1.csv\", header=True, inferSchema=True)\n",
    "#LC_Loan_part = spark.read.csv(\"file:///C:/Users/Ndivhuwo Mphephu/Desktop/Lending Club Data/LendingClub Data (2007-2019Q3)/Accepted_Loans_2007-2019Q3.csv\", header=True, inferSchema=True)\n",
    "LC_Loan_part.printSchema()"
   ]
  },
  {
   "cell_type": "markdown",
   "metadata": {},
   "source": [
    "### Apply the MapReduce algorithm to check the number of missing vales per column\n"
   ]
  },
  {
   "cell_type": "code",
   "execution_count": 3,
   "metadata": {},
   "outputs": [
    {
     "data": {
      "text/plain": [
       "[('desc', 249987),\n",
       " ('mths_since_last_record', 205730),\n",
       " ('verification_status_joint', 249489),\n",
       " ('sec_app_revol_util', 250000),\n",
       " ('hardship_reason', 248268),\n",
       " ('deferral_term', 248268),\n",
       " ('hardship_start_date', 248268),\n",
       " ('payment_plan_start_date', 248268),\n",
       " ('hardship_loan_status', 248268),\n",
       " ('hardship_payoff_balance_amount', 248268),\n",
       " ('hardship_last_payment_amount', 248268),\n",
       " ('settlement_status', 242838),\n",
       " ('settlement_amount', 242838),\n",
       " ('emp_title', 14767),\n",
       " ('mo_sin_old_il_acct', 7124),\n",
       " ('open_il_12m', 228628),\n",
       " ('open_rv_12m', 228628),\n",
       " ('open_rv_24m', 228628),\n",
       " ('dti', 2),\n",
       " ('num_rev_accts', 1),\n",
       " ('debt_settlement_flag', 1),\n",
       " ('sec_app_earliest_cr_line', 250000),\n",
       " ('sec_app_inq_last_6mths', 250000),\n",
       " ('sec_app_open_acc', 250000),\n",
       " ('sec_app_num_rev_accts', 250000),\n",
       " ('sec_app_collections_12_mths_ex_med', 250000),\n",
       " ('sec_app_mths_since_last_major_derog', 250000),\n",
       " ('hardship_amount', 248268),\n",
       " ('settlement_date', 242838),\n",
       " ('settlement_percentage', 242838),\n",
       " ('settlement_term', 242838),\n",
       " ('mths_since_last_major_derog', 176873),\n",
       " ('mths_since_recent_inq', 26948),\n",
       " ('emp_length', 14740),\n",
       " ('mths_since_rcnt_il', 229190),\n",
       " ('bc_open_to_buy', 2283),\n",
       " ('percent_bc_gt_75', 2493),\n",
       " ('revol_util', 103),\n",
       " ('open_acc_6m', 228627),\n",
       " ('open_il_24m', 228628),\n",
       " ('total_bal_il', 228628),\n",
       " ('all_util', 228628),\n",
       " ('last_credit_pull_d', 4),\n",
       " ('purpose', 1),\n",
       " ('policy_code', 1),\n",
       " ('hardship_flag', 1),\n",
       " ('annual_inc_joint', 249488),\n",
       " ('sec_app_fico_range_high', 250000),\n",
       " ('sec_app_mort_acc', 250000),\n",
       " ('hardship_end_date', 248268),\n",
       " ('hardship_length', 248268),\n",
       " ('hardship_dpd', 248268),\n",
       " ('orig_projected_additional_accrued_interest', 248599),\n",
       " ('debt_settlement_flag_date', 242837),\n",
       " ('title', 132),\n",
       " ('mths_since_last_delinq', 121354),\n",
       " ('il_util', 231383),\n",
       " ('bc_util', 2434),\n",
       " ('last_pymnt_d', 189),\n",
       " ('max_bal_bc', 228628),\n",
       " ('inq_last_12m', 228628),\n",
       " ('acc_open_past_24mths', 1),\n",
       " ('member_id', 250000),\n",
       " ('next_pymnt_d', 220897),\n",
       " ('dti_joint', 249491),\n",
       " ('revol_bal_joint', 249999),\n",
       " ('sec_app_fico_range_low', 250000),\n",
       " ('sec_app_open_act_il', 250000),\n",
       " ('sec_app_chargeoff_within_12_mths', 250000),\n",
       " ('hardship_type', 248267),\n",
       " ('hardship_status', 248268),\n",
       " ('mths_since_recent_bc_dlq', 186293),\n",
       " ('mths_since_recent_revol_delinq', 160310),\n",
       " ('num_tl_120dpd_2m', 14215),\n",
       " ('mths_since_recent_bc', 2211),\n",
       " ('open_act_il', 228628),\n",
       " ('inq_fi', 228627),\n",
       " ('total_cu_tl', 228628),\n",
       " ('acc_now_delinq', 1),\n",
       " ('total_rev_hi_lim', 1),\n",
       " ('num_accts_ever_120_pd', 1)]"
      ]
     },
     "execution_count": 3,
     "metadata": {},
     "output_type": "execute_result"
    }
   ],
   "source": [
    "# print Missing Values\n",
    "def CheckMissingValues(df):\n",
    "    df = df.rdd.flatMap(lambda r: r.asDict().items())\n",
    "    return df.filter(lambda kv: kv[1] is None).mapValues(lambda x: 1).reduceByKey(lambda x,y: x+y).collect()\n",
    "\n",
    "CheckMissingValues(LC_Loan_part)"
   ]
  },
  {
   "cell_type": "markdown",
   "metadata": {},
   "source": [
    "### Find the feature columns which has more than 50% empty data"
   ]
  },
  {
   "cell_type": "code",
   "execution_count": 4,
   "metadata": {},
   "outputs": [],
   "source": [
    "# Find list of columns which has more than 50% of data missing.\n",
    "def findMissingValueCols(df):\n",
    "    missingValueColumns = []\n",
    "    for column in df.columns:\n",
    "        nullRows = df.where(col(column).isNull()).count()\n",
    "        #print(column, \"--\", nullRows)\n",
    "        if nullRows > df.count()*0.5 : # i.e. if ALL values are NULL\n",
    "            missingValueColumns.append(column)\n",
    "    return missingValueColumns\n"
   ]
  },
  {
   "cell_type": "code",
   "execution_count": 5,
   "metadata": {},
   "outputs": [],
   "source": [
    "# Cleaning up the data\n",
    "\n",
    "######### 1. Removing all the features which has more than 50% of the data empty ##########\n",
    "missing_cols = missing_cols = findMissingValueCols(LC_Loan_part)\n",
    "LC_Loan_Filtered = LC_Loan_part.drop(*missing_cols)\n",
    "\n",
    "######### 2. Removing unique ID and url columns ##########\n",
    "LC_Loan_Filtered = LC_Loan_Filtered.drop(\"id\", \"member_id\", \"issue_d\",\"url\")\n",
    "\n",
    "\n",
    "######### 3. Removing Other insignificant columns ########## \n",
    "# application_type has only INDIVIDUAL, can be removed. \n",
    "# pymnt_plan & initial_list_status has only one category \"n\" & \"f\". Keeping state feature instead of zip_code.\n",
    "# removing date fileds as well. policy_code has only one category \"1\"\n",
    "LC_Loan_Filtered = LC_Loan_Filtered.drop(\"emp_title\", \"title\", \"zip_code\", \"earliest_cr_line\", \"last_pymnt_d\", \n",
    "                                     \"next_pymnt_d\", \"last_credit_pull_d\", \"policy_code\" )\n",
    "\n",
    "\n",
    "######### 4. Missing data imputation for tot_cur_bal ########## \n",
    "# 90% of the missing data in \"tot_cur_bal\", \"tot_coll_amt\" column can be filled with 0 since their loan status is \"Fully Paid\" OR \"Charged Off\"\n",
    "LC_Loan_Filtered = LC_Loan_Filtered.withColumn(\"tot_cur_bal\", when((col(\"tot_cur_bal\").isNull() & \n",
    "                                                               col(\"loan_status\").isin(\"Fully Paid\", \"Charged Off\")), lit(\"0\"))\n",
    "                                          .otherwise(col(\"tot_cur_bal\")))\n",
    "\n",
    "LC_Loan_Filtered = LC_Loan_Filtered.withColumn(\"tot_coll_amt\", when((col(\"tot_coll_amt\").isNull() & \n",
    "                                                               col(\"loan_status\").isin(\"Fully Paid\", \"Charged Off\")), lit(\"0\"))\n",
    "                                          .otherwise(col(\"tot_coll_amt\")))\n",
    "\n",
    "# Inputing mean value for \"total_rev_hi_lim\"\n",
    "mean = int(LC_Loan_Filtered.select(avg(\"total_rev_hi_lim\")).take(1)[0][0])\n",
    "LC_Loan_Filtered= LC_Loan_Filtered.withColumn(\"total_rev_hi_lim\", when(col(\"total_rev_hi_lim\").isNull(), lit(mean))\n",
    "                                           .otherwise(col(\"total_rev_hi_lim\")))\n",
    "\n",
    "######### 5. Removing loan observations which still have missing data. (~ 0.8% records) ##########\n",
    "#print(\"Total Loan Observations - \", loanDFForModel.count())\n",
    "LC_Loan_Filtered= LC_Loan_Filtered.dropna(how=\"any\") \n",
    "\n",
    "\n",
    "\n",
    "######### 6. Adding the lable column to dataframe. 1- defalut and 0-paid/current ##########\n",
    "LC_Loan_Filtered = LC_Loan_Filtered.withColumn(\"isDefault\", when(col(\"loan_status\").isin(\"Default\",\"Charged Off\", \"Late (31-120 days)\", \"Late (16-30 days)\", \n",
    "                                                                     \"Does not meet the credit policy. Status:Charged Off\"), 1)\n",
    "                           .otherwise(0))\n",
    "\n",
    "######### 7. Changing the feature datatype from string to numeric ########## \n",
    "LC_Loan_Filtered = LC_Loan_Filtered.withColumn(\"loan_amnt\",LC_Loan_Filtered[\"loan_amnt\"].cast('float'))\n",
    "LC_Loan_Filtered = LC_Loan_Filtered.withColumn(\"funded_amnt\",LC_Loan_Filtered[\"funded_amnt\"].cast('float'))\n",
    "LC_Loan_Filtered = LC_Loan_Filtered.withColumn(\"funded_amnt_inv\",LC_Loan_Filtered[\"funded_amnt_inv\"].cast('float'))\n",
    "LC_Loan_Filtered = LC_Loan_Filtered.withColumn(\"int_rate\",LC_Loan_Filtered[\"int_rate\"].cast('float'))\n",
    "LC_Loan_Filtered = LC_Loan_Filtered.withColumn(\"installment\",LC_Loan_Filtered[\"installment\"].cast('float'))\n",
    "LC_Loan_Filtered = LC_Loan_Filtered.withColumn(\"annual_inc\",LC_Loan_Filtered[\"annual_inc\"].cast('float'))\n",
    "LC_Loan_Filtered = LC_Loan_Filtered.withColumn(\"dti\",LC_Loan_Filtered[\"dti\"].cast('float'))\n",
    "LC_Loan_Filtered = LC_Loan_Filtered.withColumn(\"delinq_2yrs\",LC_Loan_Filtered[\"delinq_2yrs\"].cast('float'))\n",
    "LC_Loan_Filtered = LC_Loan_Filtered.withColumn(\"inq_last_6mths\",LC_Loan_Filtered[\"inq_last_6mths\"].cast('float'))\n",
    "LC_Loan_Filtered = LC_Loan_Filtered.withColumn(\"open_acc\",LC_Loan_Filtered[\"open_acc\"].cast('float'))\n",
    "LC_Loan_Filtered = LC_Loan_Filtered.withColumn(\"pub_rec\",LC_Loan_Filtered[\"pub_rec\"].cast('float'))\n",
    "LC_Loan_Filtered = LC_Loan_Filtered.withColumn(\"revol_bal\",LC_Loan_Filtered[\"revol_bal\"].cast('float'))\n",
    "LC_Loan_Filtered = LC_Loan_Filtered.withColumn(\"revol_util\",LC_Loan_Filtered[\"revol_util\"].cast('float'))\n",
    "LC_Loan_Filtered = LC_Loan_Filtered.withColumn(\"total_acc\",LC_Loan_Filtered[\"total_acc\"].cast('float'))\n",
    "\n",
    "######### 8. Removing the fileds which are related to the current loan ########## \n",
    "LC_Loan_Filtered  =LC_Loan_Filtered.drop(\"out_prncp\", \"out_prncp_inv\", \"total_pymnt\", \"total_pymnt_inv\", \"total_rec_prncp\", \n",
    "                                     \"total_rec_int\", \"total_rec_late_fee\", \"recoveries\", \"collection_recovery_fee\",\n",
    "                                    \"last_pymnt_amnt\", \"collections_12_mths_ex_med\", \"acc_now_delinq\", \"tot_coll_amt\",\n",
    "                                    \"tot_cur_bal\", \"total_rev_hi_lim\")"
   ]
  },
  {
   "cell_type": "code",
   "execution_count": 10,
   "metadata": {},
   "outputs": [
    {
     "name": "stdout",
     "output_type": "stream",
     "text": [
      "root\n",
      " |-- _c0: integer (nullable = true)\n",
      " |-- loan_amnt: float (nullable = true)\n",
      " |-- funded_amnt: float (nullable = true)\n",
      " |-- funded_amnt_inv: float (nullable = true)\n",
      " |-- term: string (nullable = true)\n",
      " |-- int_rate: float (nullable = true)\n",
      " |-- installment: float (nullable = true)\n",
      " |-- grade: string (nullable = true)\n",
      " |-- sub_grade: string (nullable = true)\n",
      " |-- emp_length: string (nullable = true)\n",
      " |-- home_ownership: string (nullable = true)\n",
      " |-- annual_inc: float (nullable = true)\n",
      " |-- verification_status: string (nullable = true)\n",
      " |-- loan_status: string (nullable = true)\n",
      " |-- pymnt_plan: string (nullable = true)\n",
      " |-- purpose: string (nullable = true)\n",
      " |-- addr_state: string (nullable = true)\n",
      " |-- dti: float (nullable = true)\n",
      " |-- delinq_2yrs: float (nullable = true)\n",
      " |-- fico_range_low: string (nullable = true)\n",
      " |-- fico_range_high: double (nullable = true)\n",
      " |-- inq_last_6mths: float (nullable = true)\n",
      " |-- mths_since_last_delinq: double (nullable = true)\n",
      " |-- open_acc: float (nullable = true)\n",
      " |-- pub_rec: float (nullable = true)\n",
      " |-- revol_bal: float (nullable = true)\n",
      " |-- revol_util: float (nullable = true)\n",
      " |-- total_acc: float (nullable = true)\n",
      " |-- initial_list_status: string (nullable = true)\n",
      " |-- last_fico_range_high: string (nullable = true)\n",
      " |-- last_fico_range_low: double (nullable = true)\n",
      " |-- application_type: string (nullable = true)\n",
      " |-- acc_open_past_24mths: double (nullable = true)\n",
      " |-- avg_cur_bal: double (nullable = true)\n",
      " |-- bc_open_to_buy: double (nullable = true)\n",
      " |-- bc_util: double (nullable = true)\n",
      " |-- chargeoff_within_12_mths: double (nullable = true)\n",
      " |-- delinq_amnt: double (nullable = true)\n",
      " |-- mo_sin_old_il_acct: double (nullable = true)\n",
      " |-- mo_sin_old_rev_tl_op: double (nullable = true)\n",
      " |-- mo_sin_rcnt_rev_tl_op: double (nullable = true)\n",
      " |-- mo_sin_rcnt_tl: double (nullable = true)\n",
      " |-- mort_acc: double (nullable = true)\n",
      " |-- mths_since_recent_bc: double (nullable = true)\n",
      " |-- mths_since_recent_inq: double (nullable = true)\n",
      " |-- num_accts_ever_120_pd: double (nullable = true)\n",
      " |-- num_actv_bc_tl: double (nullable = true)\n",
      " |-- num_actv_rev_tl: double (nullable = true)\n",
      " |-- num_bc_sats: double (nullable = true)\n",
      " |-- num_bc_tl: double (nullable = true)\n",
      " |-- num_il_tl: double (nullable = true)\n",
      " |-- num_op_rev_tl: double (nullable = true)\n",
      " |-- num_rev_accts: double (nullable = true)\n",
      " |-- num_rev_tl_bal_gt_0: double (nullable = true)\n",
      " |-- num_sats: double (nullable = true)\n",
      " |-- num_tl_120dpd_2m: double (nullable = true)\n",
      " |-- num_tl_30dpd: double (nullable = true)\n",
      " |-- num_tl_90g_dpd_24m: double (nullable = true)\n",
      " |-- num_tl_op_past_12m: double (nullable = true)\n",
      " |-- pct_tl_nvr_dlq: double (nullable = true)\n",
      " |-- percent_bc_gt_75: double (nullable = true)\n",
      " |-- pub_rec_bankruptcies: double (nullable = true)\n",
      " |-- tax_liens: double (nullable = true)\n",
      " |-- tot_hi_cred_lim: double (nullable = true)\n",
      " |-- total_bal_ex_mort: double (nullable = true)\n",
      " |-- total_bc_limit: double (nullable = true)\n",
      " |-- total_il_high_credit_limit: double (nullable = true)\n",
      " |-- hardship_flag: string (nullable = true)\n",
      " |-- debt_settlement_flag: string (nullable = true)\n",
      " |-- isDefault: integer (nullable = false)\n",
      "\n"
     ]
    }
   ],
   "source": [
    "LC_Loan_Filtered.printSchema()"
   ]
  },
  {
   "cell_type": "markdown",
   "metadata": {},
   "source": [
    "### Count the number of each loan status in the data"
   ]
  },
  {
   "cell_type": "code",
   "execution_count": 11,
   "metadata": {},
   "outputs": [
    {
     "data": {
      "text/plain": [
       "defaultdict(int, {'Fully Paid': 71038, 'Charged Off': 19162})"
      ]
     },
     "execution_count": 11,
     "metadata": {},
     "output_type": "execute_result"
    }
   ],
   "source": [
    "# Check the distinct loan statust in the dataset\n",
    "def NumberOfLoanStatus(df):\n",
    "    Loan_status = df.select(\"loan_status\").rdd\n",
    "    Loan_status.map(lambda r: (r['loan_status'], 1))\n",
    "    return Loan_status.countByKey()\n",
    "\n",
    "NumberOfLoanStatus(LC_Loan_Filtered) "
   ]
  },
  {
   "cell_type": "markdown",
   "metadata": {},
   "source": [
    "This results shows that the dominating loans statust are `Fully Paid`, `Current` and `Charged-Off`. It is therefore not neccesary to keep all the loan status when building the model. Only these three loan status are worth keeping however the `current` loans are not interesting to investors as they need to know about the completed loans and those that are written-off. Therefore we filter the data to contaain only charged off and paid up loans and encode the statuse with bolean values (`Ture` for charged off and `False` for paid up). "
   ]
  },
  {
   "cell_type": "code",
   "execution_count": 12,
   "metadata": {},
   "outputs": [
    {
     "data": {
      "text/plain": [
       "defaultdict(int, {'Fully Paid': 71038, 'Charged Off': 19162})"
      ]
     },
     "execution_count": 12,
     "metadata": {},
     "output_type": "execute_result"
    }
   ],
   "source": [
    "def FilterLoanStatus(df):\n",
    "    df = df.filter(\"loan_status == 'Fully Paid' or loan_status == 'Charged Off' \")\n",
    "    return NumberOfLoanStatus(df)\n",
    "\n",
    "FilterLoanStatus(LC_Loan_Filtered)"
   ]
  },
  {
   "cell_type": "code",
   "execution_count": 13,
   "metadata": {},
   "outputs": [],
   "source": [
    "def LoanStatusFilter(df):\n",
    "    # = df.filter(\"loan_status == 'Fully Paid' or loan_status == 'Charged Off' \")\n",
    "    return df.filter(\"loan_status == 'Fully Paid' or loan_status == 'Charged Off' \")\n",
    "\n",
    "LC_Loan_Filtered = LoanStatusFilter(LC_Loan_Filtered)"
   ]
  },
  {
   "cell_type": "markdown",
   "metadata": {},
   "source": [
    "### MapReduce algorithm to count the number of appearance of string features in the dataframe"
   ]
  },
  {
   "cell_type": "code",
   "execution_count": 14,
   "metadata": {},
   "outputs": [
    {
     "data": {
      "text/plain": [
       "[('Fully Paid', 71038), ('Charged Off', 19162)]"
      ]
     },
     "execution_count": 14,
     "metadata": {},
     "output_type": "execute_result"
    }
   ],
   "source": [
    "# Mapreduce for counts of columns values in data frame\n",
    "def ValueCounts(df, col):\n",
    "    count = df.rdd.map(lambda row: (row[col], 1)).reduceByKey(lambda x,y: x+y).sortBy(lambda x: -x[1]).collect()\n",
    "    return count\n",
    "\n",
    "ValueCounts(LC_Loan_Filtered, 'loan_status')"
   ]
  },
  {
   "cell_type": "code",
   "execution_count": 18,
   "metadata": {},
   "outputs": [
    {
     "data": {
      "text/plain": [
       "[('B', 27870),\n",
       " ('C', 26491),\n",
       " ('A', 13523),\n",
       " ('D', 12636),\n",
       " ('E', 7065),\n",
       " ('F', 2126),\n",
       " ('G', 489)]"
      ]
     },
     "execution_count": 18,
     "metadata": {},
     "output_type": "execute_result"
    }
   ],
   "source": [
    "ValueCounts(LC_Loan_Filtered, 'grade')"
   ]
  },
  {
   "cell_type": "code",
   "execution_count": 19,
   "metadata": {},
   "outputs": [
    {
     "data": {
      "text/plain": [
       "[('C1', 6016),\n",
       " ('B4', 5726),\n",
       " ('B3', 5721),\n",
       " ('C2', 5601),\n",
       " ('B5', 5562),\n",
       " ('B2', 5495),\n",
       " ('C3', 5406),\n",
       " ('B1', 5366),\n",
       " ('C4', 5337),\n",
       " ('A5', 4670),\n",
       " ('C5', 4131),\n",
       " ('D1', 3533),\n",
       " ('A4', 2897),\n",
       " ('D2', 2601),\n",
       " ('D3', 2393),\n",
       " ('D4', 2198),\n",
       " ('A3', 2023),\n",
       " ('A1', 2000),\n",
       " ('A2', 1933),\n",
       " ('D5', 1911),\n",
       " ('E1', 1877),\n",
       " ('E2', 1645),\n",
       " ('E3', 1465),\n",
       " ('E4', 1180),\n",
       " ('E5', 898),\n",
       " ('F1', 734),\n",
       " ('F2', 523),\n",
       " ('F3', 363),\n",
       " ('F4', 272),\n",
       " ('F5', 234),\n",
       " ('G1', 166),\n",
       " ('G2', 132),\n",
       " ('G3', 82),\n",
       " ('G4', 64),\n",
       " ('G5', 45)]"
      ]
     },
     "execution_count": 19,
     "metadata": {},
     "output_type": "execute_result"
    }
   ],
   "source": [
    "ValueCounts(LC_Loan_Filtered, 'sub_grade')"
   ]
  },
  {
   "cell_type": "code",
   "execution_count": 15,
   "metadata": {},
   "outputs": [],
   "source": [
    "######### 8. Extarct the feature matrix by droping loan_status ########## \n",
    "Features = LC_Loan_Filtered.drop(\"loan_status\")"
   ]
  },
  {
   "cell_type": "code",
   "execution_count": 16,
   "metadata": {},
   "outputs": [
    {
     "name": "stdout",
     "output_type": "stream",
     "text": [
      "root\n",
      " |-- _c0: integer (nullable = true)\n",
      " |-- loan_amnt: float (nullable = true)\n",
      " |-- funded_amnt: float (nullable = true)\n",
      " |-- funded_amnt_inv: float (nullable = true)\n",
      " |-- term: string (nullable = true)\n",
      " |-- int_rate: float (nullable = true)\n",
      " |-- installment: float (nullable = true)\n",
      " |-- grade: string (nullable = true)\n",
      " |-- sub_grade: string (nullable = true)\n",
      " |-- emp_length: string (nullable = true)\n",
      " |-- home_ownership: string (nullable = true)\n",
      " |-- annual_inc: float (nullable = true)\n",
      " |-- verification_status: string (nullable = true)\n",
      " |-- pymnt_plan: string (nullable = true)\n",
      " |-- purpose: string (nullable = true)\n",
      " |-- addr_state: string (nullable = true)\n",
      " |-- dti: float (nullable = true)\n",
      " |-- delinq_2yrs: float (nullable = true)\n",
      " |-- fico_range_low: string (nullable = true)\n",
      " |-- fico_range_high: double (nullable = true)\n",
      " |-- inq_last_6mths: float (nullable = true)\n",
      " |-- mths_since_last_delinq: double (nullable = true)\n",
      " |-- open_acc: float (nullable = true)\n",
      " |-- pub_rec: float (nullable = true)\n",
      " |-- revol_bal: float (nullable = true)\n",
      " |-- revol_util: float (nullable = true)\n",
      " |-- total_acc: float (nullable = true)\n",
      " |-- initial_list_status: string (nullable = true)\n",
      " |-- last_fico_range_high: string (nullable = true)\n",
      " |-- last_fico_range_low: double (nullable = true)\n",
      " |-- application_type: string (nullable = true)\n",
      " |-- acc_open_past_24mths: double (nullable = true)\n",
      " |-- avg_cur_bal: double (nullable = true)\n",
      " |-- bc_open_to_buy: double (nullable = true)\n",
      " |-- bc_util: double (nullable = true)\n",
      " |-- chargeoff_within_12_mths: double (nullable = true)\n",
      " |-- delinq_amnt: double (nullable = true)\n",
      " |-- mo_sin_old_il_acct: double (nullable = true)\n",
      " |-- mo_sin_old_rev_tl_op: double (nullable = true)\n",
      " |-- mo_sin_rcnt_rev_tl_op: double (nullable = true)\n",
      " |-- mo_sin_rcnt_tl: double (nullable = true)\n",
      " |-- mort_acc: double (nullable = true)\n",
      " |-- mths_since_recent_bc: double (nullable = true)\n",
      " |-- mths_since_recent_inq: double (nullable = true)\n",
      " |-- num_accts_ever_120_pd: double (nullable = true)\n",
      " |-- num_actv_bc_tl: double (nullable = true)\n",
      " |-- num_actv_rev_tl: double (nullable = true)\n",
      " |-- num_bc_sats: double (nullable = true)\n",
      " |-- num_bc_tl: double (nullable = true)\n",
      " |-- num_il_tl: double (nullable = true)\n",
      " |-- num_op_rev_tl: double (nullable = true)\n",
      " |-- num_rev_accts: double (nullable = true)\n",
      " |-- num_rev_tl_bal_gt_0: double (nullable = true)\n",
      " |-- num_sats: double (nullable = true)\n",
      " |-- num_tl_120dpd_2m: double (nullable = true)\n",
      " |-- num_tl_30dpd: double (nullable = true)\n",
      " |-- num_tl_90g_dpd_24m: double (nullable = true)\n",
      " |-- num_tl_op_past_12m: double (nullable = true)\n",
      " |-- pct_tl_nvr_dlq: double (nullable = true)\n",
      " |-- percent_bc_gt_75: double (nullable = true)\n",
      " |-- pub_rec_bankruptcies: double (nullable = true)\n",
      " |-- tax_liens: double (nullable = true)\n",
      " |-- tot_hi_cred_lim: double (nullable = true)\n",
      " |-- total_bal_ex_mort: double (nullable = true)\n",
      " |-- total_bc_limit: double (nullable = true)\n",
      " |-- total_il_high_credit_limit: double (nullable = true)\n",
      " |-- hardship_flag: string (nullable = true)\n",
      " |-- debt_settlement_flag: string (nullable = true)\n",
      " |-- isDefault: integer (nullable = false)\n",
      "\n"
     ]
    }
   ],
   "source": [
    "Features.printSchema()"
   ]
  },
  {
   "cell_type": "markdown",
   "metadata": {},
   "source": [
    "### Feature selection using random forest"
   ]
  },
  {
   "cell_type": "code",
   "execution_count": null,
   "metadata": {},
   "outputs": [],
   "source": [
    "def replace_row(row, repdict):\n",
    "    d = row.asDict()\n",
    "    for k, torep in repdict.items():\n",
    "        if k in d:\n",
    "            d[k] = torep[d[k]]\n",
    "    return Row(**d)\n",
    "\n",
    "def df_replace(df, repdict):\n",
    "    return df.rdd.map(lambda r: replace_row(r, repdict))"
   ]
  },
  {
   "cell_type": "code",
   "execution_count": null,
   "metadata": {},
   "outputs": [],
   "source": []
  },
  {
   "cell_type": "code",
   "execution_count": null,
   "metadata": {},
   "outputs": [],
   "source": []
  }
 ],
 "metadata": {
  "kernelspec": {
   "display_name": "Python 3",
   "language": "python",
   "name": "python3"
  },
  "language_info": {
   "codemirror_mode": {
    "name": "ipython",
    "version": 3
   },
   "file_extension": ".py",
   "mimetype": "text/x-python",
   "name": "python",
   "nbconvert_exporter": "python",
   "pygments_lexer": "ipython3",
   "version": "3.7.6"
  }
 },
 "nbformat": 4,
 "nbformat_minor": 4
}
